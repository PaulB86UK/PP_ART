{
 "cells": [
  {
   "cell_type": "code",
   "execution_count": 123,
   "metadata": {},
   "outputs": [],
   "source": [
    "#libraries\n",
    "import pandas as pd\n"
   ]
  },
  {
   "cell_type": "markdown",
   "metadata": {},
   "source": [
    "# Extract Data"
   ]
  },
  {
   "cell_type": "code",
   "execution_count": 124,
   "metadata": {},
   "outputs": [
    {
     "data": {
      "text/html": [
       "<div>\n",
       "<style scoped>\n",
       "    .dataframe tbody tr th:only-of-type {\n",
       "        vertical-align: middle;\n",
       "    }\n",
       "\n",
       "    .dataframe tbody tr th {\n",
       "        vertical-align: top;\n",
       "    }\n",
       "\n",
       "    .dataframe thead th {\n",
       "        text-align: right;\n",
       "    }\n",
       "</style>\n",
       "<table border=\"1\" class=\"dataframe\">\n",
       "  <thead>\n",
       "    <tr style=\"text-align: right;\">\n",
       "      <th></th>\n",
       "      <th>Marital Status</th>\n",
       "      <th>AGE</th>\n",
       "      <th>Gender</th>\n",
       "      <th>Car Value</th>\n",
       "      <th>Years of No Claims Bonus</th>\n",
       "      <th>Annual Mileage</th>\n",
       "      <th>Payment Method</th>\n",
       "      <th>Acquisition Channel</th>\n",
       "      <th>Years of Tenure with Current Provider</th>\n",
       "      <th>Price</th>\n",
       "      <th>Actual Change in Price vs last Year</th>\n",
       "      <th>% Change in Price vs last Year</th>\n",
       "      <th>Grouped Change in Price</th>\n",
       "      <th>Renewed?</th>\n",
       "    </tr>\n",
       "  </thead>\n",
       "  <tbody>\n",
       "    <tr>\n",
       "      <th>0</th>\n",
       "      <td>M</td>\n",
       "      <td>45.0</td>\n",
       "      <td>F</td>\n",
       "      <td>500.0</td>\n",
       "      <td>4.0</td>\n",
       "      <td>6000.0</td>\n",
       "      <td>Monthly</td>\n",
       "      <td>Inbound</td>\n",
       "      <td>4.0</td>\n",
       "      <td>289.4</td>\n",
       "      <td>-11.94</td>\n",
       "      <td>-0.0396</td>\n",
       "      <td>-0.05</td>\n",
       "      <td>0.0</td>\n",
       "    </tr>\n",
       "  </tbody>\n",
       "</table>\n",
       "</div>"
      ],
      "text/plain": [
       "  Marital Status   AGE Gender  Car Value  Years of No Claims Bonus  \\\n",
       "0              M  45.0      F      500.0                       4.0   \n",
       "\n",
       "   Annual Mileage Payment Method Acquisition Channel  \\\n",
       "0          6000.0        Monthly             Inbound   \n",
       "\n",
       "   Years of Tenure with Current Provider  Price  \\\n",
       "0                                    4.0  289.4   \n",
       "\n",
       "   Actual Change in Price vs last Year  % Change in Price vs last Year  \\\n",
       "0                               -11.94                         -0.0396   \n",
       "\n",
       "   Grouped Change in Price  Renewed?  \n",
       "0                    -0.05       0.0  "
      ]
     },
     "execution_count": 124,
     "metadata": {},
     "output_type": "execute_result"
    }
   ],
   "source": [
    "\n",
    "PATH = r'C:\\Users\\ppuen\\Documents\\Entrevista Insurance Lunes\\data.xlsx'\n",
    "data = pd.read_excel(PATH)\n",
    "data.head(1)"
   ]
  },
  {
   "cell_type": "markdown",
   "metadata": {},
   "source": [
    "# Transform Data"
   ]
  },
  {
   "cell_type": "markdown",
   "metadata": {},
   "source": [
    "## Remove Unwanted Columns"
   ]
  },
  {
   "cell_type": "code",
   "execution_count": 125,
   "metadata": {},
   "outputs": [],
   "source": [
    "data.drop(columns=['Marital Status','Car Value','Grouped Change in Price', 'Gender'], inplace=True)"
   ]
  },
  {
   "cell_type": "markdown",
   "metadata": {},
   "source": [
    "## Policyholder age."
   ]
  },
  {
   "cell_type": "markdown",
   "metadata": {},
   "source": [
    "### EDA"
   ]
  },
  {
   "cell_type": "code",
   "execution_count": null,
   "metadata": {},
   "outputs": [],
   "source": [
    "#rename column\n",
    "data.rename(columns={\"AGE\":\"age\"}, inplace= True)\n",
    "#check descriptive statistics\n",
    "data.age.describe()"
   ]
  },
  {
   "cell_type": "code",
   "execution_count": null,
   "metadata": {},
   "outputs": [],
   "source": [
    "#check discretization\n",
    "print(pd.qcut(data.age, q = 20))\n",
    "#apply\n",
    "data['age_discrete'] = pd.qcut(data.age, q = 20)\n",
    "#verifiy\n",
    "data['age_discrete'].value_counts()\n",
    "data['age'] = data.age.astype(int)"
   ]
  },
  {
   "cell_type": "markdown",
   "metadata": {},
   "source": [
    "## Price , Actual Change in Price vs Last Year -- Expiring and Renewing Premium + Policy Renewed or Lapsed.\n"
   ]
  },
  {
   "cell_type": "code",
   "execution_count": null,
   "metadata": {},
   "outputs": [],
   "source": [
    "#rename columns according to game\n",
    "data.rename(columns={\"Price\":\"renewing_premium\",\"% Change in Price vs last Year\":\"%_chg_rnw_price_vs_actual\", \"Renewed?\":'renewed'}, inplace =True)\n",
    "#calculate expiring premium\n",
    "data['expiring_premium'] = data['renewing_premium'] - data['Actual Change in Price vs last Year']\n",
    "#Change Renewed value from 0 to -1, to calculate the non aggregated version of net revenue \"net_revenue\"\n",
    "data['renewed_2'] = data['renewed']\n",
    "data.loc[data['renewed'] == 0,'renewed_2'] = -1\n",
    "data['renewed'].value_counts() \n",
    "#creating net revenue metric\n",
    "data['net_revenue'] = data['renewed_2'] * data['renewing_premium']\n",
    "#remove Actual Change in Price vs last Year\t(not needed anymore)\n",
    "data.drop(columns=['Actual Change in Price vs last Year'], inplace = True)\n",
    "data.head(1)\n"
   ]
  },
  {
   "cell_type": "markdown",
   "metadata": {},
   "source": [
    "## Acquisition Column"
   ]
  },
  {
   "cell_type": "code",
   "execution_count": null,
   "metadata": {},
   "outputs": [],
   "source": [
    "data['Acquisition Channel'].value_counts()\n",
    "#remove outbound category\n",
    "data = data[data['Acquisition Channel'] != 'Outbound']\n",
    "data['Acquisition Channel'].value_counts()"
   ]
  },
  {
   "cell_type": "markdown",
   "metadata": {},
   "source": [
    "# Data Load"
   ]
  },
  {
   "cell_type": "code",
   "execution_count": 136,
   "metadata": {},
   "outputs": [],
   "source": [
    "data.to_excel(r'C:\\Users\\ppuen\\Documents\\Entrevista Insurance Lunes\\processed.xlsx') # to tableau"
   ]
  }
 ],
 "metadata": {
  "interpreter": {
   "hash": "d9f2ea97be36505ee1d9031b88c27e9a4a8546b3dc157dbfdfd1cf9e1974a748"
  },
  "kernelspec": {
   "display_name": "Python 3.10.2 64-bit",
   "language": "python",
   "name": "python3"
  },
  "language_info": {
   "codemirror_mode": {
    "name": "ipython",
    "version": 3
   },
   "file_extension": ".py",
   "mimetype": "text/x-python",
   "name": "python",
   "nbconvert_exporter": "python",
   "pygments_lexer": "ipython3",
   "version": "3.10.2"
  },
  "orig_nbformat": 4
 },
 "nbformat": 4,
 "nbformat_minor": 2
}
