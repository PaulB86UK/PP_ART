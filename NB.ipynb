{
 "cells": [
  {
   "cell_type": "code",
   "execution_count": 123,
   "metadata": {},
   "outputs": [],
   "source": [
    "#libraries\n",
    "import pandas as pd\n"
   ]
  },
  {
   "cell_type": "markdown",
   "metadata": {},
   "source": [
    "# Extract Data"
   ]
  },
  {
   "cell_type": "code",
   "execution_count": 124,
   "metadata": {},
   "outputs": [
    {
     "data": {
      "text/html": [
       "<div>\n",
       "<style scoped>\n",
       "    .dataframe tbody tr th:only-of-type {\n",
       "        vertical-align: middle;\n",
       "    }\n",
       "\n",
       "    .dataframe tbody tr th {\n",
       "        vertical-align: top;\n",
       "    }\n",
       "\n",
       "    .dataframe thead th {\n",
       "        text-align: right;\n",
       "    }\n",
       "</style>\n",
       "<table border=\"1\" class=\"dataframe\">\n",
       "  <thead>\n",
       "    <tr style=\"text-align: right;\">\n",
       "      <th></th>\n",
       "      <th>Marital Status</th>\n",
       "      <th>AGE</th>\n",
       "      <th>Gender</th>\n",
       "      <th>Car Value</th>\n",
       "      <th>Years of No Claims Bonus</th>\n",
       "      <th>Annual Mileage</th>\n",
       "      <th>Payment Method</th>\n",
       "      <th>Acquisition Channel</th>\n",
       "      <th>Years of Tenure with Current Provider</th>\n",
       "      <th>Price</th>\n",
       "      <th>Actual Change in Price vs last Year</th>\n",
       "      <th>% Change in Price vs last Year</th>\n",
       "      <th>Grouped Change in Price</th>\n",
       "      <th>Renewed?</th>\n",
       "    </tr>\n",
       "  </thead>\n",
       "  <tbody>\n",
       "    <tr>\n",
       "      <th>0</th>\n",
       "      <td>M</td>\n",
       "      <td>45.0</td>\n",
       "      <td>F</td>\n",
       "      <td>500.0</td>\n",
       "      <td>4.0</td>\n",
       "      <td>6000.0</td>\n",
       "      <td>Monthly</td>\n",
       "      <td>Inbound</td>\n",
       "      <td>4.0</td>\n",
       "      <td>289.4</td>\n",
       "      <td>-11.94</td>\n",
       "      <td>-0.0396</td>\n",
       "      <td>-0.05</td>\n",
       "      <td>0.0</td>\n",
       "    </tr>\n",
       "  </tbody>\n",
       "</table>\n",
       "</div>"
      ],
      "text/plain": [
       "  Marital Status   AGE Gender  Car Value  Years of No Claims Bonus  \\\n",
       "0              M  45.0      F      500.0                       4.0   \n",
       "\n",
       "   Annual Mileage Payment Method Acquisition Channel  \\\n",
       "0          6000.0        Monthly             Inbound   \n",
       "\n",
       "   Years of Tenure with Current Provider  Price  \\\n",
       "0                                    4.0  289.4   \n",
       "\n",
       "   Actual Change in Price vs last Year  % Change in Price vs last Year  \\\n",
       "0                               -11.94                         -0.0396   \n",
       "\n",
       "   Grouped Change in Price  Renewed?  \n",
       "0                    -0.05       0.0  "
      ]
     },
     "execution_count": 124,
     "metadata": {},
     "output_type": "execute_result"
    }
   ],
   "source": [
    "\n",
    "PATH = r'C:\\Users\\ppuen\\Documents\\Entrevista Insurance Lunes\\data.xlsx'\n",
    "data = pd.read_excel(PATH)\n",
    "data.head(1)"
   ]
  },
  {
   "cell_type": "markdown",
   "metadata": {},
   "source": [
    "# Transform Data"
   ]
  },
  {
   "cell_type": "markdown",
   "metadata": {},
   "source": [
    "## Remove Unwanted Columns"
   ]
  },
  {
   "cell_type": "code",
   "execution_count": 125,
   "metadata": {},
   "outputs": [],
   "source": [
    "data.drop(columns=['Marital Status','Car Value','Grouped Change in Price', 'Gender'], inplace=True)"
   ]
  },
  {
   "cell_type": "markdown",
   "metadata": {},
   "source": [
    "## Policyholder age."
   ]
  },
  {
   "cell_type": "markdown",
   "metadata": {},
   "source": [
    "### EDA"
   ]
  },
  {
   "cell_type": "code",
   "execution_count": null,
   "metadata": {},
   "outputs": [],
   "source": [
    "#rename column\n",
    "data.rename(columns={\"AGE\":\"age\"}, inplace= True)\n",
    "#check descriptive statistics\n",
    "data.age.describe()"
   ]
  },
  {
   "cell_type": "code",
   "execution_count": null,
   "metadata": {},
   "outputs": [],
   "source": [
    "#check discretization\n",
    "print(pd.qcut(data.age, q = 20))\n",
    "#apply\n",
    "data['age_discrete'] = pd.qcut(data.age, q = 20)\n",
    "#verifiy\n",
    "data['age_discrete'].value_counts()\n",
    "data['age'] = data.age.astype(int)"
   ]
  },
  {
   "cell_type": "markdown",
   "metadata": {},
   "source": [
    "## Price , Actual Change in Price vs Last Year -- Expiring and Renewing Premium + Policy Renewed or Lapsed.\n"
   ]
  },
  {
   "cell_type": "code",
   "execution_count": null,
   "metadata": {},
   "outputs": [],
   "source": [
    "#rename columns according to game\n",
    "data.rename(columns={\"Price\":\"renewing_premium\",\"% Change in Price vs last Year\":\"%_chg_rnw_price_vs_actual\", \"Renewed?\":'renewed'}, inplace =True)\n",
    "#calculate expiring premium\n",
    "data['expiring_premium'] = data['renewing_premium'] - data['Actual Change in Price vs last Year']\n",
    "#Change Renewed value from 0 to -1, to calculate the non aggregated version of net revenue \"net_revenue\"\n",
    "data['renewed_2'] = data['renewed']\n",
    "data.loc[data['renewed'] == 0,'renewed_2'] = -1\n",
    "data['renewed'].value_counts() \n",
    "#creating net revenue metric\n",
    "data['net_revenue'] = data['renewed_2'] * data['renewing_premium']\n",
    "#remove Actual Change in Price vs last Year\t(not needed anymore)\n",
    "data.drop(columns=['Actual Change in Price vs last Year'], inplace = True)\n",
    "data.head(1)\n"
   ]
  },
  {
   "cell_type": "markdown",
   "metadata": {},
   "source": [
    "## Acquisition Column"
   ]
  },
  {
   "cell_type": "code",
   "execution_count": null,
   "metadata": {},
   "outputs": [],
   "source": [
    "data['Acquisition Channel'].value_counts()\n",
    "#remove outbound category\n",
    "data = data[data['Acquisition Channel'] != 'Outbound']\n",
    "data['Acquisition Channel'].value_counts()"
   ]
  },
  {
   "cell_type": "markdown",
   "metadata": {},
   "source": [
    "# Data Load"
   ]
  },
  {
   "cell_type": "code",
   "execution_count": 136,
   "metadata": {},
   "outputs": [],
   "source": [
    "data.to_excel(r'C:\\Users\\ppuen\\Documents\\Entrevista Insurance Lunes\\processed.xlsx') # to tableau"
   ]
  },
  {
   "cell_type": "markdown",
   "metadata": {},
   "source": [
    "# Monthly Profiling"
   ]
  },
  {
   "cell_type": "markdown",
   "metadata": {},
   "source": [
    "## Data Extract"
   ]
  },
  {
   "cell_type": "code",
   "execution_count": 12,
   "metadata": {},
   "outputs": [
    {
     "data": {
      "text/html": [
       "<div>\n",
       "<style scoped>\n",
       "    .dataframe tbody tr th:only-of-type {\n",
       "        vertical-align: middle;\n",
       "    }\n",
       "\n",
       "    .dataframe tbody tr th {\n",
       "        vertical-align: top;\n",
       "    }\n",
       "\n",
       "    .dataframe thead th {\n",
       "        text-align: right;\n",
       "    }\n",
       "</style>\n",
       "<table border=\"1\" class=\"dataframe\">\n",
       "  <thead>\n",
       "    <tr style=\"text-align: right;\">\n",
       "      <th></th>\n",
       "      <th>Title</th>\n",
       "      <th>ESA:LEVEL:ASSET:FinCos: Insurance Premiums &amp; Reserves</th>\n",
       "    </tr>\n",
       "  </thead>\n",
       "  <tbody>\n",
       "    <tr>\n",
       "      <th>0</th>\n",
       "      <td>CDID</td>\n",
       "      <td>NPYH</td>\n",
       "    </tr>\n",
       "    <tr>\n",
       "      <th>1</th>\n",
       "      <td>Source dataset ID</td>\n",
       "      <td>UKEA</td>\n",
       "    </tr>\n",
       "    <tr>\n",
       "      <th>2</th>\n",
       "      <td>PreUnit</td>\n",
       "      <td>NaN</td>\n",
       "    </tr>\n",
       "    <tr>\n",
       "      <th>3</th>\n",
       "      <td>Unit</td>\n",
       "      <td>NaN</td>\n",
       "    </tr>\n",
       "    <tr>\n",
       "      <th>4</th>\n",
       "      <td>Release date</td>\n",
       "      <td>31-03-2022</td>\n",
       "    </tr>\n",
       "    <tr>\n",
       "      <th>...</th>\n",
       "      <td>...</td>\n",
       "      <td>...</td>\n",
       "    </tr>\n",
       "    <tr>\n",
       "      <th>177</th>\n",
       "      <td>2020 Q4</td>\n",
       "      <td>573672</td>\n",
       "    </tr>\n",
       "    <tr>\n",
       "      <th>178</th>\n",
       "      <td>2021 Q1</td>\n",
       "      <td>393198</td>\n",
       "    </tr>\n",
       "    <tr>\n",
       "      <th>179</th>\n",
       "      <td>2021 Q2</td>\n",
       "      <td>349782</td>\n",
       "    </tr>\n",
       "    <tr>\n",
       "      <th>180</th>\n",
       "      <td>2021 Q3</td>\n",
       "      <td>348107</td>\n",
       "    </tr>\n",
       "    <tr>\n",
       "      <th>181</th>\n",
       "      <td>2021 Q4</td>\n",
       "      <td>354098</td>\n",
       "    </tr>\n",
       "  </tbody>\n",
       "</table>\n",
       "<p>182 rows × 2 columns</p>\n",
       "</div>"
      ],
      "text/plain": [
       "                 Title ESA:LEVEL:ASSET:FinCos: Insurance Premiums & Reserves\n",
       "0                 CDID                                               NPYH   \n",
       "1    Source dataset ID                                               UKEA   \n",
       "2              PreUnit                                                NaN   \n",
       "3                 Unit                                                NaN   \n",
       "4         Release date                                         31-03-2022   \n",
       "..                 ...                                                ...   \n",
       "177            2020 Q4                                             573672   \n",
       "178            2021 Q1                                             393198   \n",
       "179            2021 Q2                                             349782   \n",
       "180            2021 Q3                                             348107   \n",
       "181            2021 Q4                                             354098   \n",
       "\n",
       "[182 rows x 2 columns]"
      ]
     },
     "execution_count": 12,
     "metadata": {},
     "output_type": "execute_result"
    }
   ],
   "source": [
    "# Choose an UK indicator\n",
    "## https://www.ons.gov.uk/economy/nationalaccounts/uksectoraccounts/timeseries/npyh/ukea\n",
    "## ESA:LEVEL:ASSET:FinCos: Insurance Premiums & Reserves\n",
    "## Quarterly estimates of national product, income and expenditure, sector accounts and balance of payments.\n",
    "\n",
    "#So first step get data from a file that is online and txt format and convert it into a table\n",
    "##Learned something: With Python 3 urllib.urlretrieve() is considered legacy. no need for inventing headers anymore :)))\n",
    "import pandas as pd\n",
    "import requests\n",
    "url ='https://www.ons.gov.uk/generator?format=csv&uri=/economy/nationalaccounts/uksectoraccounts/timeseries/npyh/ukea'\n",
    "r = requests.get(url)\n",
    "with open (rf\"{PATH}\\historical_data.txt\", 'wb') as outfile:\n",
    "    outfile.write(r.content)\n",
    "\n",
    "historical_indicator_data = pd.read_csv(rf\"{PATH}\\historical_data.txt\")\n",
    "historical_indicator_data"
   ]
  },
  {
   "cell_type": "markdown",
   "metadata": {},
   "source": [
    "# Data Processing"
   ]
  },
  {
   "cell_type": "code",
   "execution_count": 36,
   "metadata": {},
   "outputs": [
    {
     "data": {
      "text/html": [
       "<div>\n",
       "<style scoped>\n",
       "    .dataframe tbody tr th:only-of-type {\n",
       "        vertical-align: middle;\n",
       "    }\n",
       "\n",
       "    .dataframe tbody tr th {\n",
       "        vertical-align: top;\n",
       "    }\n",
       "\n",
       "    .dataframe thead th {\n",
       "        text-align: right;\n",
       "    }\n",
       "</style>\n",
       "<table border=\"1\" class=\"dataframe\">\n",
       "  <thead>\n",
       "    <tr style=\"text-align: right;\">\n",
       "      <th></th>\n",
       "      <th>QTR Date</th>\n",
       "      <th>Ind_Value</th>\n",
       "      <th>profile</th>\n",
       "    </tr>\n",
       "  </thead>\n",
       "  <tbody>\n",
       "    <tr>\n",
       "      <th>42</th>\n",
       "      <td>1987 Q1</td>\n",
       "      <td>129099</td>\n",
       "      <td>0.364586</td>\n",
       "    </tr>\n",
       "    <tr>\n",
       "      <th>43</th>\n",
       "      <td>1987 Q2</td>\n",
       "      <td>130052</td>\n",
       "      <td>0.367277</td>\n",
       "    </tr>\n",
       "    <tr>\n",
       "      <th>44</th>\n",
       "      <td>1987 Q3</td>\n",
       "      <td>131001</td>\n",
       "      <td>0.369957</td>\n",
       "    </tr>\n",
       "    <tr>\n",
       "      <th>45</th>\n",
       "      <td>1987 Q4</td>\n",
       "      <td>131950</td>\n",
       "      <td>0.372637</td>\n",
       "    </tr>\n",
       "    <tr>\n",
       "      <th>46</th>\n",
       "      <td>1988 Q1</td>\n",
       "      <td>126410</td>\n",
       "      <td>0.356992</td>\n",
       "    </tr>\n",
       "    <tr>\n",
       "      <th>...</th>\n",
       "      <td>...</td>\n",
       "      <td>...</td>\n",
       "      <td>...</td>\n",
       "    </tr>\n",
       "    <tr>\n",
       "      <th>177</th>\n",
       "      <td>2020 Q4</td>\n",
       "      <td>573672</td>\n",
       "      <td>1.620094</td>\n",
       "    </tr>\n",
       "    <tr>\n",
       "      <th>178</th>\n",
       "      <td>2021 Q1</td>\n",
       "      <td>393198</td>\n",
       "      <td>1.110421</td>\n",
       "    </tr>\n",
       "    <tr>\n",
       "      <th>179</th>\n",
       "      <td>2021 Q2</td>\n",
       "      <td>349782</td>\n",
       "      <td>0.987811</td>\n",
       "    </tr>\n",
       "    <tr>\n",
       "      <th>180</th>\n",
       "      <td>2021 Q3</td>\n",
       "      <td>348107</td>\n",
       "      <td>0.983081</td>\n",
       "    </tr>\n",
       "    <tr>\n",
       "      <th>181</th>\n",
       "      <td>2021 Q4</td>\n",
       "      <td>354098</td>\n",
       "      <td>1.000000</td>\n",
       "    </tr>\n",
       "  </tbody>\n",
       "</table>\n",
       "<p>140 rows × 3 columns</p>\n",
       "</div>"
      ],
      "text/plain": [
       "    QTR Date  Ind_Value   profile\n",
       "42   1987 Q1     129099  0.364586\n",
       "43   1987 Q2     130052  0.367277\n",
       "44   1987 Q3     131001  0.369957\n",
       "45   1987 Q4     131950  0.372637\n",
       "46   1988 Q1     126410  0.356992\n",
       "..       ...        ...       ...\n",
       "177  2020 Q4     573672  1.620094\n",
       "178  2021 Q1     393198  1.110421\n",
       "179  2021 Q2     349782  0.987811\n",
       "180  2021 Q3     348107  0.983081\n",
       "181  2021 Q4     354098  1.000000\n",
       "\n",
       "[140 rows x 3 columns]"
      ]
     },
     "execution_count": 36,
     "metadata": {},
     "output_type": "execute_result"
    }
   ],
   "source": [
    "import numpy as np\n",
    "#Only Need the Quaterly Profiling So everything that on title has a \"Q\" is a good start\n",
    "historical_data_ind_subset = historical_indicator_data[historical_indicator_data.Title.str.contains(\"Q\") ]\n",
    "#rename column titles\n",
    "historical_data_ind_subset = historical_data_ind_subset.rename(columns={'Title':'QTR Date','ESA:LEVEL:ASSET:FinCos: Insurance Premiums & Reserves':'Ind_Value'})\n",
    "#transform Ind_Value to numeric\n",
    "historical_data_ind_subset.Ind_Value = pd.to_numeric(historical_data_ind_subset.Ind_Value)\n",
    "# now get this table as profile to recreate the trend on ourt data\n",
    "##get last value first which will be supposed to be the last point and coincides to the last point on the data I got  (assumption)\n",
    "last_value = historical_data_ind_subset.Ind_Value.values[-1]\n",
    "last_value\n",
    "#Divide everything by last value\n",
    "historical_data_ind_subset['profile'] = historical_data_ind_subset['Ind_Value']/ last_value"
   ]
  },
  {
   "cell_type": "code",
   "execution_count": 38,
   "metadata": {},
   "outputs": [],
   "source": [
    "#This goes to Tableau\n",
    "historical_data_ind_subset.to_csv(rf'{PATH}\\Profile.csv')"
   ]
  }
 ],
 "metadata": {
  "interpreter": {
   "hash": "c3170ac01f82cd0458a570ff989877ab1e58c54b0af3169982aa2d73bcbaa1a4"
  },
  "kernelspec": {
   "display_name": "Python 3.9.7 ('base')",
   "language": "python",
   "name": "python3"
  },
  "language_info": {
   "codemirror_mode": {
    "name": "ipython",
    "version": 3
   },
   "file_extension": ".py",
   "mimetype": "text/x-python",
   "name": "python",
   "nbconvert_exporter": "python",
   "pygments_lexer": "ipython3",
   "version": "3.9.7"
  },
  "orig_nbformat": 4
 },
 "nbformat": 4,
 "nbformat_minor": 2
}
